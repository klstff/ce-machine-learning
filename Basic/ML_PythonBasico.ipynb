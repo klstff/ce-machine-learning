{
 "cells": [
  {
   "cell_type": "markdown",
   "metadata": {},
   "source": [
    "CEFET-MG | ERE 2021/2<br>\n",
    "Aprendizado de Máquina<br>\n",
    "Python Básico<br>\n",
    "Aluna: Kelly Steffany Silva<br>"
   ]
  },
  {
   "cell_type": "markdown",
   "metadata": {},
   "source": [
    "<h1>Unidade 2</h1>"
   ]
  },
  {
   "attachments": {
    "Screenshot%20from%202021-03-10%2011-52-08.png": {
     "image/png": "[encoded data removed]"
    }
   },
   "cell_type": "markdown",
   "metadata": {},
   "source": [
    "### Exercício 8: Rede Social 👑\n",
    "Você irá fazer uma rede social por meio de um vetor de pessoas *pessoas* e matriz *amizades*, similar ao apresentado abaixo:\n",
    "![Screenshot%20from%202021-03-10%2011-52-08.png](attachment:Screenshot%20from%202021-03-10%2011-52-08.png)\n",
    "\n",
    "em que, na matriz *amizades*, cada linha e coluna correspondem a pessoas que podem manter uma relação de amizade entre si. Além disso, a pessoas da i-ésima linha (e coluna!) corresponde a mesma pessoa na posição i no vetor *pessoas*. Exemplo, a pessoa na linha 0 (e coluna 0) é *Alice*, da mesma forma, a pessoa na linha e coluna 2 é a *Carol*.\n",
    "\n",
    "Nesta matriz o valor é 1 caso uma pessoa, representada na linha, e amiga da pessoa representada pela coluna. Por exemplo, *Alice* é amiga apenas de *Danielle* (veja a linha 0). Nesta rede social (assim como na vida 💁) pode ocorrer falta de reciprocidade entre as amizades, por exemplo: *Bob* é amigo de *Alice* mas *Alice* não é amiga de *Bob*.\n",
    "\n",
    "Aqui vai duas funções que você deverá fazer e testá-las por meio da matriz e vetor:\n",
    "\n",
    "- `exibe_amigos`: por meio do vetor *pessoas*, matriz *amizades* e o nome de uma pessoa, exibe o amigos desta pessoa. Você deverá armazenar esta lista de amigos em um vetor e retorná-lo.\n",
    "\n",
    "- `exibe_amigos_em_comum`: por meio do vetor *pessoas*, da matriz *amizades* e do nome de uma pessoa X e uma pessoa Y, exibe os amigos em comum entre essas duas pessoas. Você deverá armazenar essa lista de amigos em comum em um vetor e retorná-lo.\n",
    "\n",
    "Lembre-se de imprimir todas as saídas de forma que fique claro de qual entrada ela representa. A função *obtem_posicao_elemento* (exercício 3) poderá ajudar, porém *CHAME-A* e *não implemente novamente*.\n"
   ]
  },
  {
   "cell_type": "code",
   "execution_count": 1,
   "metadata": {},
   "outputs": [],
   "source": [
    "#implemente sua função aqui!\n",
    "def exibe_amigos(pessoas, amizades, nome_pessoa):\n",
    "    lista_amigos = []\n",
    "    pos_pessoa = pessoas.index(nome_pessoa)\n",
    "    vetor_amizades = amizades[pos_pessoa]\n",
    "    for pos_amigo in range(len(pessoas)):\n",
    "        if vetor_amizades[pos_amigo]:\n",
    "            lista_amigos.append(pessoas[pos_amigo])\n",
    "    return lista_amigos\n",
    "\n",
    "def exibe_amigos_em_comum(pessoas, amizades, nome_pessoa_1, nome_pessoa_2):\n",
    "    amigos_comum = []\n",
    "    amigos_pessoa1 = exibe_amigos(pessoas, amizades, nome_pessoa_1)\n",
    "    amigos_pessoa2 = exibe_amigos(pessoas, amizades, nome_pessoa_2)\n",
    "    for amigo in amigos_pessoa1:\n",
    "        if amigo in amigos_pessoa2:\n",
    "            amigos_comum.append(amigo)\n",
    "    return amigos_comum"
   ]
  },
  {
   "cell_type": "code",
   "execution_count": 12,
   "metadata": {},
   "outputs": [
    {
     "name": "stdout",
     "output_type": "stream",
     "text": [
      "Amigos de Bob: ['Alice', 'Bob']\n",
      "Amigos de Alice: ['Bob']\n",
      "Amigos de Carol: ['Alice', 'Bob']\n",
      "\n",
      "Amigos em comum Alice e Bob: ['Bob']\n",
      "Amigos em comum Bob e Carol: ['Alice', 'Bob']\n",
      "Amigos em comum Alice e Carol: ['Bob']\n"
     ]
    }
   ],
   "source": [
    "#crie os testes aqui!\n",
    "\n",
    "pessoas = [\"Alice\",\"Bob\",\"Carol\"]\n",
    "amizades = [[0,1,0],\n",
    "            [1,1,0],\n",
    "            [1,1,0]]\n",
    "\n",
    "amigos = exibe_amigos(pessoas, amizades,\"Bob\")\n",
    "print(f\"Amigos de Bob: {amigos}\")\n",
    "\n",
    "#Faça mais testes para exibe_amigos e para exibe_amigos_em_comum\n",
    "amigos2 = exibe_amigos(pessoas, amizades,\"Alice\")\n",
    "print(f\"Amigos de Alice: {amigos2}\")\n",
    "amigos3 = exibe_amigos(pessoas, amizades,\"Carol\")\n",
    "print(f\"Amigos de Carol: {amigos3}\\n\")\n",
    "\n",
    "amigos_comum_ab = exibe_amigos_em_comum(pessoas, amizades, \"Alice\", \"Bob\")\n",
    "print(f\"Amigos em comum Alice e Bob: {amigos_comum_ab}\")\n",
    "amigos_comum_bc = exibe_amigos_em_comum(pessoas, amizades, \"Bob\", \"Carol\")\n",
    "print(f\"Amigos em comum Bob e Carol: {amigos_comum_bc}\")\n",
    "amigos_comum_ac = exibe_amigos_em_comum(pessoas, amizades, \"Alice\", \"Carol\")\n",
    "print(f\"Amigos em comum Alice e Carol: {amigos_comum_ac}\")"
   ]
  },
  {
   "cell_type": "markdown",
   "metadata": {},
   "source": [
    "<h1>Unidade 3</h1>"
   ]
  },
  {
   "cell_type": "markdown",
   "metadata": {},
   "source": [
    "### Exercício 2: Operações em string\n",
    "Nesse exercício você irá implementar duas funções que auxiliarão nos exercícios posteriores:\n",
    "\n",
    "\n",
    "- **elimina_caracteres** (2 parâmetros) Elimina todas as ocorrências dos caracteres especificados de um texto. Tanto o texto quanto os caracteres a serem removidos são passados como parâmetros. Exemplo: `elimina_caracteres('correndo contra o tempo', 'coe')` devem resultar na string `rrnd cntra tmp`. Não altere o *for* já criado! O método *.replace* pode te ajudar! consulte [documentação](https://docs.python.org/3.5/library/stdtypes.html#string-methods) ou os [slides](https://daniel-hasan.github.io/cefet-web-grad/classes/python2/#5).\n",
    "    \n",
    "DICA: Será necessario usar o *.replace* uma vez para cada caractere especificado (ou seja, dentro de um laço)."
   ]
  },
  {
   "cell_type": "code",
   "execution_count": 3,
   "metadata": {},
   "outputs": [],
   "source": [
    "def elimina_caracteres(texto, caracteres_para_eliminar):\n",
    "    for caracter_eliminar in caracteres_para_eliminar:\n",
    "        if caracter_eliminar in texto:\n",
    "            texto = texto.replace(caracter_eliminar,\"\")\n",
    "    return texto"
   ]
  },
  {
   "cell_type": "code",
   "execution_count": 4,
   "metadata": {},
   "outputs": [
    {
     "name": "stdout",
     "output_type": "stream",
     "text": [
      "rrnd ntra  tmp\n",
      "trg para tgrs trsts\n"
     ]
    }
   ],
   "source": [
    "# Faça os testes \n",
    "resultado_1 = elimina_caracteres('correndo contra o tempo', 'coe')\n",
    "resultado_2 = elimina_caracteres('trigo para tigres tristes', 'ieo') #saída: trg para tgrs trsts\n",
    "\n",
    "#lembre-se de imprimir os resultados\n",
    "print(resultado_1)\n",
    "print(resultado_2)"
   ]
  },
  {
   "cell_type": "markdown",
   "metadata": {},
   "source": [
    "- **substitua_caracteres**: (3 parâmetros) Dado um texto, uma string de procura e uma string de reposição, sendo que a string de procura e reposição são de mesmo tamanho. Substitua no texto o caractere na posição i da string de procura pelo caractere na mesma posição i na string de reposição. O texto, os caracteres a serem procurados no texto e os caracteres a serem colocados no lugar serão passados como parâmetro.\n",
    "    \n",
    "Exemplo:  `substitua_caracteres('o sapo nao lava o pe', 'aoe', 'iiu')` devem resultar na string `'i sipi nii livi i pu'`.\n",
    "    \n",
    "DICA: Será necessario usar o *.replace* uma vez para cada caractere especificado (ou seja, dentro de um laço)."
   ]
  },
  {
   "cell_type": "code",
   "execution_count": 5,
   "metadata": {},
   "outputs": [],
   "source": [
    "def substitua_caracteres(texto, caracteres_procura, caracteres_substituir_por):\n",
    "    for i in range(len(caracteres_procura)):\n",
    "        caractere_procura = caracteres_procura[i]\n",
    "        caractere_substituir_por = caracteres_substituir_por[i]\n",
    "        if caractere_procura in texto:\n",
    "            texto = texto.replace(caractere_procura, caractere_substituir_por)\n",
    "        \n",
    "    return texto"
   ]
  },
  {
   "cell_type": "code",
   "execution_count": 6,
   "metadata": {},
   "outputs": [
    {
     "name": "stdout",
     "output_type": "stream",
     "text": [
      "i sipi nii livi i pu\n",
      "unu cempreu umu urerunhu\n"
     ]
    }
   ],
   "source": [
    "#testes! Faça mais para verificar todos os casos.\n",
    "# Lembre-se de imprimir o resultado.\n",
    "\n",
    "resultado_1 = substitua_caracteres('o sapo nao lava o pe', 'aoe', 'iiu')\n",
    "resultado_2 = substitua_caracteres('ana comprou uma ariranha', 'aoi', 'uee') #saida: unu cempreu umu urerunhu\n",
    "print(resultado_1)\n",
    "print(resultado_2)"
   ]
  },
  {
   "cell_type": "markdown",
   "metadata": {},
   "source": [
    "### Exercício 3: Palíndromos 👑\n",
    "Segundo a [Oxford Languages](https://languages.oup.com/google-dictionary-pt/), *plaíndromos* são textos que se pode ler, indiferentemente, da esquerda para a direita ou vice-versa. Por exemplo: \"arara\", \"asa\", \"mirim\"... E também as frases: \"A cara rajada da jararaca\", \"Socorram-me, subi no ônibus em Marrocos\"...Perceba que, em frases, deve-se ignorar a pontuação, acentuação, espaços e maiúsculas/minúsculas.\n",
    "\n",
    "Implemente a função *verifica_palindromo* que recebe como parâmetro uma string (texto ou única palavra) e retorna *true* caso o parâmetro seja um palíndromo ou *false*, caso contrário. \n",
    "\n",
    "As funções do exercício anterior podem lhe ajudar para processamento de string, para isso *chame-as* e *não implemente-as*. Ignore as seguintes pontuações: `, - ! ?` e o espaço em branco. Além disso, acentos agudos, til e circunflexo em vogais devem ser ignorados.\n"
   ]
  },
  {
   "cell_type": "code",
   "execution_count": 7,
   "metadata": {},
   "outputs": [],
   "source": [
    "#implemete sua função aqui!\n",
    "def verifica_palindromo(texto:str)->bool:\n",
    "    texto = texto.lower()\n",
    "    texto = elimina_caracteres(texto, \",-!? \")\n",
    "    texto = substitua_caracteres(texto, \"áâãéêíîóôõúû\", \"aaaeeiiooouu\")\n",
    "    texto_tf = texto[::-1]\n",
    "    if texto == texto_tf:\n",
    "        return True\n",
    "    \n",
    "    return False"
   ]
  },
  {
   "cell_type": "code",
   "execution_count": 8,
   "metadata": {},
   "outputs": [
    {
     "name": "stdout",
     "output_type": "stream",
     "text": [
      "True\n",
      "False\n",
      "False\n",
      "True\n"
     ]
    }
   ],
   "source": [
    "#testes\n",
    "print(verifica_palindromo(\"após a sopa\"))\n",
    "print(verifica_palindromo(\"azul\"))\n",
    "print(verifica_palindromo(\"rosa\"))\n",
    "print(verifica_palindromo(\"Socorram-me, subi no ônibus em Marrocos\"))"
   ]
  },
  {
   "attachments": {
    "image.png": {
     "image/png": "[encoded data removed]"
    }
   },
   "cell_type": "markdown",
   "metadata": {},
   "source": [
    "### Exercício 5: Funções como parâmetro 2\n",
    "Você irá implementar a função *executa_operacao_vetor* que recebe como parâmetro uma operação (função) e dois vetores, *vetor1* e *vetor2*, de mesmo tamanho, e executa uma operação entre os elementos da mesma posição deste vetor. \n",
    "Esta operação é uma função que será chamada para cada posição deste vetor (ex: *operacao(vetor1[i], vetor2[i])*) e retornará o resultado desta operação. Caso os dois vetores sejam de tamanho diferentes, deve-se exibir uma *mensagem de erro* e não realizar a operação.\n",
    "\n",
    "Veja o exemplo abaixo, considerando a operação soma (implementada no exercício 0.2).\n",
    "\n",
    "![image.png](attachment:image.png)\n",
    "\n",
    "Você deverá implementar a função *executa_operacao_vetor* e três operações distintas (por exemplo, *soma(a, b)*, *multiplica(a, b)* e *subtrai(a, b)*), cada uma, criando uma função de forma uma diferente, siga o tutorial e o exercício anterior.\n",
    "\n",
    "PS: Lembre-se de sempre rodar a função antes e trocar os null"
   ]
  },
  {
   "cell_type": "code",
   "execution_count": 9,
   "metadata": {},
   "outputs": [],
   "source": [
    "#implemente sua função aqui!\n",
    "def soma(a,b):\n",
    "    return a+b\n",
    "\n",
    "multiplica = lambda a,b: a*b\n",
    "\n",
    "def executa_operacao_vetor(operacao, vetor1, vetor2):\n",
    "    if len(vetor1) != len(vetor2):\n",
    "        return \"Erro. Os dois vetores sao de tamanhos diferentes\"\n",
    "    \n",
    "    resultado = []\n",
    "    for pos in range(len(vetor1)):\n",
    "        resultado.append(operacao(vetor1[pos],vetor2[pos]))\n",
    "    return resultado"
   ]
  },
  {
   "cell_type": "code",
   "execution_count": 10,
   "metadata": {},
   "outputs": [
    {
     "name": "stdout",
     "output_type": "stream",
     "text": [
      "Soma: [6, 8, 9]\n",
      "Subtracao: [5, 12, 14]\n",
      "Multiplicacao: [-4, -4, -5]\n"
     ]
    }
   ],
   "source": [
    "#testes! Lembre-se de testar todas as funções e imprimir o resultado\n",
    "vetor1 = [1, 2, 2]\n",
    "vetor2 = [5, 6, 7]\n",
    "\n",
    "resultado_soma = executa_operacao_vetor(soma, vetor1, vetor2)\n",
    "resultado_subt = executa_operacao_vetor(multiplica, vetor1, vetor2)\n",
    "resultado_mult = executa_operacao_vetor(lambda a,b: a-b, vetor1, vetor2)\n",
    "\n",
    "print(\"Soma:\", resultado_soma)\n",
    "print(\"Subtracao:\", resultado_subt)\n",
    "print(\"Multiplicacao:\", resultado_mult)"
   ]
  }
 ],
 "metadata": {
  "kernelspec": {
   "display_name": "Python 3",
   "language": "python",
   "name": "python3"
  },
  "language_info": {
   "codemirror_mode": {
    "name": "ipython",
    "version": 3
   },
   "file_extension": ".py",
   "mimetype": "text/x-python",
   "name": "python",
   "nbconvert_exporter": "python",
   "pygments_lexer": "ipython3",
   "version": "3.8.5"
  }
 },
 "nbformat": 4,
 "nbformat_minor": 2
}
