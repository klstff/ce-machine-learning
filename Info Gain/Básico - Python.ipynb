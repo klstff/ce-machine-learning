{
 "cells": [
  {
   "cell_type": "markdown",
   "metadata": {},
   "source": [
    "## Sintaxe Básica Python"
   ]
  },
  {
   "cell_type": "markdown",
   "metadata": {},
   "source": [
    "A sintaxe básica também pode ser encontrada nos slides ([Python 1](https://daniel-hasan.github.io/cefet-web-grad/classes/python1/) e [Python 2](https://daniel-hasan.github.io/cefet-web-grad/classes/python2/)) e na [documentação da linguagem](https://www.python.org/doc/)."
   ]
  },
  {
   "cell_type": "markdown",
   "metadata": {},
   "source": [
    "### Variáveis e tipos em Python"
   ]
  },
  {
   "cell_type": "markdown",
   "metadata": {},
   "source": [
    "Variáveis não são declaradas e, a partir do momento que usamos, começam a existir."
   ]
  },
  {
   "cell_type": "code",
   "execution_count": 2,
   "metadata": {},
   "outputs": [
    {
     "name": "stdout",
     "output_type": "stream",
     "text": [
      "1\n",
      "<class 'int'>\n",
      "oi\n",
      "<class 'str'>\n"
     ]
    }
   ],
   "source": [
    "x = 1\n",
    "y = \"oi\"\n",
    "print(x)\n",
    "print(type(x))\n",
    "\n",
    "print(y)\n",
    "print(type(y))"
   ]
  },
  {
   "cell_type": "markdown",
   "metadata": {},
   "source": [
    "No Jupyther notebook, você pode editar o código e executá-lo (apertando ctrl+enter dentro do mesmo) a vontade. Fique atento apenas com a ordem de execução."
   ]
  },
  {
   "cell_type": "markdown",
   "metadata": {},
   "source": [
    "### Listas"
   ]
  },
  {
   "cell_type": "markdown",
   "metadata": {},
   "source": [
    "Listas são estruturas de dados unidimensionais, **heterogêneas**. "
   ]
  },
  {
   "cell_type": "code",
   "execution_count": 2,
   "metadata": {},
   "outputs": [
    {
     "name": "stdout",
     "output_type": "stream",
     "text": [
      "5\n",
      "Aew\n",
      "[2, 4, 5]\n"
     ]
    }
   ],
   "source": [
    "lista_de_coisas = ['Aew', 35, True, [], 'outra string']\n",
    "print(len(lista_de_coisas)) #len retorna o tamanho da lista\n",
    "print(lista_de_coisas[0]) #imprime \"Aew\"\n",
    "l = [4,2,5]\n",
    "l.sort()\n",
    "print(l)"
   ]
  },
  {
   "cell_type": "markdown",
   "metadata": {},
   "source": [
    "Veja mais sobre operações úteis em strings e listas [nos slides](https://daniel-hasan.github.io/cefet-web/classes/python2/#string_lista)"
   ]
  },
  {
   "cell_type": "markdown",
   "metadata": {},
   "source": [
    "#### Sublistas"
   ]
  },
  {
   "cell_type": "markdown",
   "metadata": {},
   "source": [
    "Como obter divisões de listas e matrizes"
   ]
  },
  {
   "cell_type": "code",
   "execution_count": 3,
   "metadata": {},
   "outputs": [
    {
     "name": "stdout",
     "output_type": "stream",
     "text": [
      "vet 0..fim: [1, 2, 4, 21]\n",
      "vet inicio..fim: [2, 4, 21]\n",
      "vet inicio..ultima posição: [2, 4, 21, 4, 2, 5]\n"
     ]
    }
   ],
   "source": [
    "#Inicialização das variáveis deste exemplo\n",
    "vetor = [1,2,4,21,4,2,5]\n",
    "inicio = 1\n",
    "fim = 4\n",
    "\n",
    "#vetor com as posições 0..fim (exceto a posição fim)\n",
    "subvet = vetor[:fim] \n",
    "print(\"vet 0..fim: \"+str(subvet))\n",
    "#vetor com as posições inicio..fim (exceto a posição fim)\n",
    "subvet = vetor[inicio:fim] \n",
    "print(\"vet inicio..fim: \"+str(subvet))\n",
    "\n",
    "#vetor com as posições inicio..ultima posição\n",
    "subvet = vetor[inicio:] \n",
    "print(\"vet inicio..ultima posição: \"+str(subvet))"
   ]
  },
  {
   "cell_type": "code",
   "execution_count": 4,
   "metadata": {},
   "outputs": [
    {
     "name": "stdout",
     "output_type": "stream",
     "text": [
      "matriz 0..fim:[[1 2 3]\n",
      " [5 3 2]\n",
      " [2 5 3]\n",
      " [4 3 2]]\n",
      "matriz[inicio..fim,0]: [5 2 4]\n",
      "matriz[inicio..fim,0:2]: [[5 3]\n",
      " [2 5]\n",
      " [4 3]\n",
      " [1 6]\n",
      " [7 7]]\n"
     ]
    }
   ],
   "source": [
    "#numpy é uma biblioteca que auxilia ao criarmos vetores e matrizes numéricas\n",
    "#inclusive, essa biblioteca aumenta a perfomance para operações com vetores e matrizes numéricas\n",
    "#importante que seja numpy, pois, caso contrário, não seria possivel filtrar colunas\n",
    "import numpy as np\n",
    "#para dividirmos em colunas, temos que usar o numpy\n",
    "MATRIZ = np.array([[1,2,3],\n",
    "                   [5,3,2],\n",
    "                   [2,5,3],\n",
    "                   [4,3,2],\n",
    "                   [1,6,2],\n",
    "                   [7,7,2]])\n",
    "inicio = 1\n",
    "fim = 4\n",
    "\n",
    "#igual vetor, com as linhas 0..fim (exceto a posição fim)\n",
    "SUB_MATRIZ = MATRIZ[:fim]\n",
    "print(\"matriz 0..fim:\"+str(SUB_MATRIZ))\n",
    "\n",
    "#primeira coluna da linha inicio..fim (exceto linha fim) \n",
    "SUB_MATRIZ = MATRIZ[inicio:fim,0]\n",
    "print(\"matriz[inicio..fim,0]: \"+str(SUB_MATRIZ))\n",
    "\n",
    "#as duas primeiras colunas da linha inicio até o final \n",
    "SUB_MATRIZ = MATRIZ[inicio:,:2]\n",
    "print(\"matriz[inicio..fim,0:2]: \"+str(SUB_MATRIZ))"
   ]
  },
  {
   "cell_type": "markdown",
   "metadata": {},
   "source": [
    "### Dicionários"
   ]
  },
  {
   "cell_type": "markdown",
   "metadata": {},
   "source": [
    "Dicionários são estruturas de mapeamento chave-valor em que a chave é [qualquer tipo imutável](https://towardsdatascience.com/https-towardsdatascience-com-python-basics-mutable-vs-immutable-objects-829a0cb1530a) o valor pode ser qualquer tipo em Python. Em outras linguagens essa estrutura de dados é chamada de **vetor associativo**. Esse estrutura se ao objeto JavaScript. "
   ]
  },
  {
   "cell_type": "code",
   "execution_count": 5,
   "metadata": {
    "scrolled": true
   },
   "outputs": [
    {
     "name": "stdout",
     "output_type": "stream",
     "text": [
      "=== x ===\n",
      "{'Alice': 3, 23: 5, (32, 32): 10}\n",
      "=== idc remissivo ==\n",
      "{'casa': [1, 3, 7], 'verde': [3, 5, 6]}\n"
     ]
    }
   ],
   "source": [
    "x = {} #inicia um dicionário vazio\n",
    "x['Alice'] = 3\n",
    "x[23] = 5\n",
    "x[32,32] = 10# x = {(32, 32): 10, 'Alice': 3, 23: 5}\n",
    "idc_remissivo = {'casa':[1,3],'verde':[3,5,6]}\n",
    "idc_remissivo['casa'].append(7) \n",
    "print(\"=== x ===\")\n",
    "print(x)\n",
    "print(\"=== idc remissivo ==\")\n",
    "print(idc_remissivo)"
   ]
  },
  {
   "cell_type": "code",
   "execution_count": 6,
   "metadata": {},
   "outputs": [
    {
     "name": "stdout",
     "output_type": "stream",
     "text": [
      "2005-07-14 12:30:00\n"
     ]
    }
   ],
   "source": [
    "from datetime import datetime #inclusão do módulo datetime\n",
    "voo = {\n",
    "    'companhia': 'Gol',\n",
    "    'numero': 815,\n",
    "    'decolagem': {\n",
    "        'IATA': 'SYD',\n",
    "        'horario': datetime(2005, 7, 14, 12, 30),#\n",
    "        'cidade': 'Sydney'\n",
    "    },\n",
    "    'chegada': {\n",
    "        'IATA': 'LAX',\n",
    "        'horario': datetime(2005, 7, 14, 15, 30),\n",
    "        'cidade': 'Los Angeles'\n",
    "    }\n",
    "}\n",
    "\n",
    "print(voo['decolagem']['horario'])"
   ]
  },
  {
   "cell_type": "markdown",
   "metadata": {},
   "source": [
    " Veja mais sobre estrutura de dados [nos slides](https://daniel-hasan.github.io/cefet-web/classes/python2/#mais-colecoes) e [na documentação](https://docs.python.org/2/tutorial/datastructures.html)"
   ]
  },
  {
   "cell_type": "markdown",
   "metadata": {},
   "source": [
    "### Statements"
   ]
  },
  {
   "cell_type": "markdown",
   "metadata": {},
   "source": [
    "#### Condicionais"
   ]
  },
  {
   "cell_type": "markdown",
   "metadata": {},
   "source": [
    "Usamos as clausulas abaixo para condicionais simples e compostas. Veja que podemos usar o **elif** para fazer o equivalente a um **switch**.\n",
    "\n",
    "Perceba também que os blocos de comandos são definidos por identação."
   ]
  },
  {
   "cell_type": "code",
   "execution_count": 4,
   "metadata": {},
   "outputs": [
    {
     "name": "stdout",
     "output_type": "stream",
     "text": [
      "Bom dia!\n"
     ]
    }
   ],
   "source": [
    "hora = 6\n",
    "if hora >= 5 and hora < 12:\n",
    "    print(\"Bom dia!\")\n",
    "else:\n",
    "    print(\"Não está de manha.\")"
   ]
  },
  {
   "cell_type": "code",
   "execution_count": 5,
   "metadata": {},
   "outputs": [
    {
     "name": "stdout",
     "output_type": "stream",
     "text": [
      "Boa tarde!\n"
     ]
    }
   ],
   "source": [
    "hora = 15\n",
    "if(hora >= 5 and hora <12):\n",
    "    print(\"Bom dia!\")\n",
    "elif(hora >= 12 and hora < 19):\n",
    "    print(\"Boa tarde!\")\n",
    "else:\n",
    "    print(\"Boa noite!\")"
   ]
  },
  {
   "cell_type": "markdown",
   "metadata": {},
   "source": [
    "### Funções"
   ]
  },
  {
   "cell_type": "markdown",
   "metadata": {},
   "source": [
    "Funções são declaradas usando o termo `def`:"
   ]
  },
  {
   "cell_type": "code",
   "execution_count": 6,
   "metadata": {},
   "outputs": [
    {
     "name": "stdout",
     "output_type": "stream",
     "text": [
      "7\n"
     ]
    }
   ],
   "source": [
    "def add(a, b):\n",
    "  return a + b\n",
    "\n",
    "x = add(2,5)  \n",
    "print(x)"
   ]
  },
  {
   "cell_type": "markdown",
   "metadata": {},
   "source": [
    "As seguintes chamadas à função possui o mesmo resultado:"
   ]
  },
  {
   "cell_type": "code",
   "execution_count": 7,
   "metadata": {},
   "outputs": [
    {
     "name": "stdout",
     "output_type": "stream",
     "text": [
      "X=7\n",
      "X=7\n"
     ]
    }
   ],
   "source": [
    "x = add(a=2,b=5)\n",
    "print(\"X=\"+str(x))\n",
    "x = add(2,b=5)\n",
    "print(\"X=\"+str(x))"
   ]
  },
  {
   "cell_type": "markdown",
   "metadata": {},
   "source": [
    "a=2 e b=5 são **keyword arguments** e, os demais, **Positional Arguments**. Não é possível colocar keyword arguments e, logo após, Positional Arguments:\n",
    "\n"
   ]
  },
  {
   "cell_type": "code",
   "execution_count": 8,
   "metadata": {},
   "outputs": [
    {
     "ename": "SyntaxError",
     "evalue": "positional argument follows keyword argument (<ipython-input-8-29055e0d42b6>, line 1)",
     "output_type": "error",
     "traceback": [
      "\u001b[1;36m  File \u001b[1;32m\"<ipython-input-8-29055e0d42b6>\"\u001b[1;36m, line \u001b[1;32m1\u001b[0m\n\u001b[1;33m    x = add(a=2,5)\u001b[0m\n\u001b[1;37m                ^\u001b[0m\n\u001b[1;31mSyntaxError\u001b[0m\u001b[1;31m:\u001b[0m positional argument follows keyword argument\n"
     ]
    }
   ],
   "source": [
    "x = add(a=2,5)"
   ]
  },
  {
   "cell_type": "markdown",
   "metadata": {},
   "source": [
    "Pode-se definir **valores default para argumentos**. Assim, estes argumentos podem ser omitidos na hora de invocar a função:"
   ]
  },
  {
   "cell_type": "code",
   "execution_count": 9,
   "metadata": {},
   "outputs": [
    {
     "name": "stdout",
     "output_type": "stream",
     "text": [
      "add(2,5,1) = 8\n",
      "add(2,5) = 7\n",
      "add(2) = 3\n",
      "add(2,c=2) = 5\n"
     ]
    }
   ],
   "source": [
    "def add(a, b=1, c=0):\n",
    "  return a + b + c\n",
    "\n",
    "x = add(2,5,1)   # x = 8\n",
    "print(\"add(2,5,1) = \"+str(x))\n",
    "\n",
    "x = add(2,5)     # x = 7\n",
    "print(\"add(2,5) = \"+str(x))\n",
    "\n",
    "x = add(2)     # x = 3\n",
    "print(\"add(2) = \"+str(x))\n",
    "\n",
    "x = add(2,c=2)     # x = 5\n",
    "print(\"add(2,c=2) = \"+str(x))"
   ]
  },
  {
   "cell_type": "markdown",
   "metadata": {},
   "source": [
    "### Estrutura de repetição simples"
   ]
  },
  {
   "cell_type": "markdown",
   "metadata": {},
   "source": [
    "Imprima os valores de **i** a seguir usando a estutura de repetição [presente neste slide](https://daniel-hasan.github.io/cefet-web/classes/python1/#18). "
   ]
  },
  {
   "cell_type": "code",
   "execution_count": 10,
   "metadata": {},
   "outputs": [
    {
     "name": "stdout",
     "output_type": "stream",
     "text": [
      "0\n",
      "1\n",
      "2\n",
      "3\n",
      "4\n",
      "5\n",
      "6\n",
      "7\n",
      "8\n",
      "9\n"
     ]
    }
   ],
   "source": [
    "### Seu código aqui: De i=0; enquanto i<10\n",
    "\n",
    "for i in range(10):\n",
    "    print(i)"
   ]
  },
  {
   "cell_type": "code",
   "execution_count": 11,
   "metadata": {},
   "outputs": [
    {
     "name": "stdout",
     "output_type": "stream",
     "text": [
      "3\n",
      "5\n",
      "7\n"
     ]
    }
   ],
   "source": [
    "### Seu código aqui: De i=3; enquanto i<9; passo 2:\n",
    "\n",
    "for i in range(3, 9, 2):\n",
    "    print(i)"
   ]
  },
  {
   "cell_type": "code",
   "execution_count": 12,
   "metadata": {},
   "outputs": [
    {
     "name": "stdout",
     "output_type": "stream",
     "text": [
      "6\n",
      "4\n",
      "2\n"
     ]
    }
   ],
   "source": [
    "### Seu código aqui: De i=6; enquanto i<1; passo -2:\n",
    "\n",
    "for i in range(6, 1, -2):\n",
    "    print(i)"
   ]
  },
  {
   "cell_type": "markdown",
   "metadata": {},
   "source": [
    "### Estrutura de repetição - percorrendo listas"
   ]
  },
  {
   "cell_type": "markdown",
   "metadata": {},
   "source": [
    "Considere a seguinte lista:"
   ]
  },
  {
   "cell_type": "code",
   "execution_count": 13,
   "metadata": {},
   "outputs": [],
   "source": [
    "itens = [\"bola\", \"chuteira\", \"luvas\"]"
   ]
  },
  {
   "cell_type": "markdown",
   "metadata": {},
   "source": [
    "Percorra a lista imprimindo também os índices [veja slide](https://daniel-hasan.github.io/cefet-web/classes/python1/#19)"
   ]
  },
  {
   "cell_type": "code",
   "execution_count": 14,
   "metadata": {},
   "outputs": [
    {
     "name": "stdout",
     "output_type": "stream",
     "text": [
      "0: bola\n",
      "1: chuteira\n",
      "2: luvas\n"
     ]
    }
   ],
   "source": [
    "### Seu código aqui\n",
    "\n",
    "for i, item in enumerate(itens):\n",
    "    print(f\"{i}: {item}\")"
   ]
  },
  {
   "cell_type": "markdown",
   "metadata": {},
   "source": [
    "Percorra sem precisar de obter o índice"
   ]
  },
  {
   "cell_type": "code",
   "execution_count": 15,
   "metadata": {},
   "outputs": [
    {
     "name": "stdout",
     "output_type": "stream",
     "text": [
      "bola\n",
      "chuteira\n",
      "luvas\n"
     ]
    }
   ],
   "source": [
    "### Seu código aqui\n",
    "\n",
    "for item in itens:\n",
    "    print(item)"
   ]
  },
  {
   "cell_type": "markdown",
   "metadata": {},
   "source": [
    "### Estrutura de Repetição  - percorrendo dicionários"
   ]
  },
  {
   "cell_type": "markdown",
   "metadata": {},
   "source": [
    "Considere o dicionário abaixo, percorra ele imprimindo sua chave e valor [veja slides](https://daniel-hasan.github.io/cefet-web/classes/python2/#15)"
   ]
  },
  {
   "cell_type": "code",
   "execution_count": 16,
   "metadata": {},
   "outputs": [
    {
     "name": "stdout",
     "output_type": "stream",
     "text": [
      "Alice: 16\n",
      "Bob: 19\n",
      "Carol: 20\n",
      "Débora: 21\n"
     ]
    }
   ],
   "source": [
    "x = {\"Alice\":16, \"Bob\":19, \"Carol\": 20, \"Débora\":21}\n",
    " \n",
    "## Seu código aqui\n",
    "\n",
    "for chave, valor in x.items():\n",
    "    print(f\"{chave}: {valor}\")"
   ]
  },
  {
   "cell_type": "markdown",
   "metadata": {},
   "source": [
    "Crie um vetor de dicionário (use a criatividade) e percorra-o imprimindo, para cada posição do vetor, o valor de todas as chaves (faça um for também navegando nas chaves/valor para isso). "
   ]
  },
  {
   "cell_type": "code",
   "execution_count": null,
   "metadata": {},
   "outputs": [],
   "source": [
    "### Seu código aqui\n",
    "\n"
   ]
  }
 ],
 "metadata": {
  "kernelspec": {
   "display_name": "Python 3",
   "language": "python",
   "name": "python3"
  },
  "language_info": {
   "codemirror_mode": {
    "name": "ipython",
    "version": 3
   },
   "file_extension": ".py",
   "mimetype": "text/x-python",
   "name": "python",
   "nbconvert_exporter": "python",
   "pygments_lexer": "ipython3",
   "version": "3.8.5"
  }
 },
 "nbformat": 4,
 "nbformat_minor": 2
}
